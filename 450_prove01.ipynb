{
  "nbformat": 4,
  "nbformat_minor": 0,
  "metadata": {
    "colab": {
      "name": "450-prove01.ipynb",
      "provenance": [],
      "authorship_tag": "ABX9TyPmSEncn8r/rzIBi7RcSdmq",
      "include_colab_link": true
    },
    "kernelspec": {
      "name": "python3",
      "display_name": "Python 3"
    }
  },
  "cells": [
    {
      "cell_type": "markdown",
      "metadata": {
        "id": "view-in-github",
        "colab_type": "text"
      },
      "source": [
        "<a href=\"https://colab.research.google.com/github/IsabelDing00/ML/blob/master/450_prove01.ipynb\" target=\"_parent\"><img src=\"https://colab.research.google.com/assets/colab-badge.svg\" alt=\"Open In Colab\"/></a>"
      ]
    },
    {
      "cell_type": "code",
      "metadata": {
        "id": "3EhkI_v2vo-p",
        "colab_type": "code",
        "outputId": "cdf37586-7a77-4740-ef9c-17f95a6c9f87",
        "colab": {
          "base_uri": "https://localhost:8080/",
          "height": 411
        }
      },
      "source": [
        "import pandas as pd\n",
        "import numpy as np\n",
        "from sklearn import datasets\n",
        "from sklearn.model_selection import train_test_split\n",
        "from sklearn.naive_bayes import GaussianNB\n",
        "\n",
        "url = \"https://byui-cs.github.io/cs450-course/week01/iris.data\"\n",
        "data = pd.read_csv(url)\n",
        "print(data)\n",
        "print(\"finish\\n\")\n",
        "features = data[[\"sepal_length\", \"sepal_width\", \"petal_length\", \"petal_width\"]].to_numpy()\n",
        "targets = data[\"species\"].to_numpy()\n",
        "\n",
        "train_data, test_data, train_targets, test_targets = train_test_split(features, targets, test_size=.3)\n",
        "\n",
        "classifier = GaussianNB()\n",
        "classifier.fit(train_data, train_targets)\n",
        "\n",
        "targets_pred = classifier.predict(test_data)\n",
        "\n",
        "accuracy1 = classifier.score(test_data, test_targets)\n",
        "print(accuracy1)\n",
        "\n",
        "\n",
        "class HardCodedClassifier:\n",
        "  def __init__(self):\n",
        "    pass\n",
        "\n",
        "  def fit(self, data, targets):\n",
        "    pass\n",
        "\n",
        "  def predict(self, data):\n",
        "    predictions = []\n",
        "    for i in data:\n",
        "      i == \"Iris-setosa\"\n",
        "      predictions.append(\"Iris-setosa\")\n",
        "    return predictions\n",
        "\n",
        "new_classifier = HardCodedClassifier()\n",
        "new_classifier.fit(train_data, train_targets)\n",
        "\n",
        "new_pred = new_classifier.predict(test_data)\n",
        "\n",
        "accuracy = classifier.score(test_data, test_targets)\n",
        "\n",
        "print(new_pred)\n",
        "print(\"done\\n\")\n",
        "print(accuracy)\n",
        "\n"
      ],
      "execution_count": 0,
      "outputs": [
        {
          "output_type": "stream",
          "text": [
            "     sepal_length  sepal_width  petal_length  petal_width         species\n",
            "0             5.1          3.5           1.4          0.2     Iris-setosa\n",
            "1             4.9          3.0           1.4          0.2     Iris-setosa\n",
            "2             4.7          3.2           1.3          0.2     Iris-setosa\n",
            "3             4.6          3.1           1.5          0.2     Iris-setosa\n",
            "4             5.0          3.6           1.4          0.2     Iris-setosa\n",
            "..            ...          ...           ...          ...             ...\n",
            "145           6.7          3.0           5.2          2.3  Iris-virginica\n",
            "146           6.3          2.5           5.0          1.9  Iris-virginica\n",
            "147           6.5          3.0           5.2          2.0  Iris-virginica\n",
            "148           6.2          3.4           5.4          2.3  Iris-virginica\n",
            "149           5.9          3.0           5.1          1.8  Iris-virginica\n",
            "\n",
            "[150 rows x 5 columns]\n",
            "finish\n",
            "\n",
            "0.9777777777777777\n",
            "['Iris-setosa', 'Iris-setosa', 'Iris-setosa', 'Iris-setosa', 'Iris-setosa', 'Iris-setosa', 'Iris-setosa', 'Iris-setosa', 'Iris-setosa', 'Iris-setosa', 'Iris-setosa', 'Iris-setosa', 'Iris-setosa', 'Iris-setosa', 'Iris-setosa', 'Iris-setosa', 'Iris-setosa', 'Iris-setosa', 'Iris-setosa', 'Iris-setosa', 'Iris-setosa', 'Iris-setosa', 'Iris-setosa', 'Iris-setosa', 'Iris-setosa', 'Iris-setosa', 'Iris-setosa', 'Iris-setosa', 'Iris-setosa', 'Iris-setosa', 'Iris-setosa', 'Iris-setosa', 'Iris-setosa', 'Iris-setosa', 'Iris-setosa', 'Iris-setosa', 'Iris-setosa', 'Iris-setosa', 'Iris-setosa', 'Iris-setosa', 'Iris-setosa', 'Iris-setosa', 'Iris-setosa', 'Iris-setosa', 'Iris-setosa']\n",
            "done\n",
            "\n",
            "0.9777777777777777\n"
          ],
          "name": "stdout"
        },
        {
          "output_type": "stream",
          "text": [
            "/usr/local/lib/python3.6/dist-packages/ipykernel_launcher.py:50: FutureWarning: elementwise comparison failed; returning scalar instead, but in the future will perform elementwise comparison\n"
          ],
          "name": "stderr"
        }
      ]
    }
  ]
}