{
  "nbformat": 4,
  "nbformat_minor": 0,
  "metadata": {
    "colab": {
      "name": "Prove03.ipynb",
      "provenance": [],
      "collapsed_sections": [],
      "authorship_tag": "ABX9TyM8HRzH5inxhAQ1ZA/Yim3t",
      "include_colab_link": true
    },
    "kernelspec": {
      "name": "python3",
      "display_name": "Python 3"
    }
  },
  "cells": [
    {
      "cell_type": "markdown",
      "metadata": {
        "id": "view-in-github",
        "colab_type": "text"
      },
      "source": [
        "<a href=\"https://colab.research.google.com/github/IsabelDing00/ML/blob/master/Prove03.ipynb\" target=\"_parent\"><img src=\"https://colab.research.google.com/assets/colab-badge.svg\" alt=\"Open In Colab\"/></a>"
      ]
    },
    {
      "cell_type": "code",
      "metadata": {
        "id": "9VoNZx7Mh1QS",
        "colab_type": "code",
        "outputId": "09fa0d99-dd75-4c23-fe25-15e8e0b2c19f",
        "colab": {
          "base_uri": "https://localhost:8080/",
          "height": 34
        }
      },
      "source": [
        "import os\n",
        "import pandas as pd\n",
        "from sklearn.neighbors import KNeighborsClassifier\n",
        "from sklearn.model_selection import train_test_split\n",
        "from sklearn.metrics import accuracy_score\n",
        "from sklearn.neighbors import KNeighborsRegressor\n",
        "\n",
        "# https://archive.ics.uci.edu/ml/machine-learning-databases/car/car.data\n",
        "\n",
        "#def car_evaluation():\n",
        "\n",
        "\n",
        "names = [\"buying\", \"maint\", \"doors\", \"persons\", \"lug_boot\", \"safety\", \"accept\"]\n",
        "#os.chdir(\"/Users/isabelding/Documents/450\")\n",
        "#car = pd.read_csv(\"/car.data\", header=None, skipinitialspace=True,\n",
        "#                 names=names, na_values=[\"?\"])\n",
        "\n",
        "car = pd.read_csv(\"https://archive.ics.uci.edu/ml/machine-learning-databases/car/car.data\", header=None, skipinitialspace=True,\n",
        "                  names=names, na_values=[\"?\"])\n",
        "  \n",
        "car.dtypes\n",
        "#print(car)\n",
        "\n",
        "car[car.isna().any(axis=1)]\n",
        "car.isna().any() # there is no missing data\n",
        "\n",
        "clean_up = {\"buying\": {\"vhigh\": 3,\n",
        "                       \"high\": 2,\n",
        "                       \"med\": 1,\n",
        "                       \"low\": 0},\n",
        "            \"maint\": {\"vhigh\": 3,\n",
        "                      \"high\": 2,\n",
        "                      \"med\": 1,\n",
        "                      \"low\": 0},\n",
        "            \"doors\": {\"2\": 2,\n",
        "                      \"3\": 3,\n",
        "                      \"4\": 4,\n",
        "                      \"5more\": 5},\n",
        "            \"persons\": {\"2\": 2,\n",
        "                      \"4\": 4,\n",
        "                      \"more\": 5},\n",
        "            \"lug_boot\": {\"big\": 2,\n",
        "                         \"med\": 1,\n",
        "                         \"small\": 0},\n",
        "            \"safety\": {\"high\": 2,\n",
        "                       \"med\": 1,\n",
        "                       \"low\": 0},\n",
        "            \"accept\": {\"unacc\": 0,\n",
        "                       \"acc\": 1,\n",
        "                       \"good\": 2,\n",
        "                       \"vgood\": 3}\n",
        "           }\n",
        "\n",
        "car.replace(clean_up, inplace=True)\n",
        "car.head()\n",
        "car.dtypes\n",
        "\n",
        "#car[\"accept\"].value_counts()\n",
        "\n",
        "car.accept.value_counts()\n",
        "\n",
        "features = car.drop(columns=[\"accept\"]).to_numpy()\n",
        "targets = car[\"accept\"].to_numpy().flatten()\n",
        "\n",
        "train_data, test_data, train_targets, test_targets = train_test_split(features, targets, test_size=.3)\n",
        "\n",
        "\n",
        "\n",
        "classifier = KNeighborsClassifier(n_neighbors=3)\n",
        "classifier.fit(train_data, train_targets)\n",
        "predictions = classifier.predict(test_data)\n",
        "correct = 0\n",
        "for i in range(len(predictions)):\n",
        "  if predictions[i] == test_targets[i]:\n",
        "    correct += 1 \n",
        "\n",
        "accuracy = (correct / len(predictions))\n",
        "accuracy\n"
      ],
      "execution_count": 0,
      "outputs": [
        {
          "output_type": "execute_result",
          "data": {
            "text/plain": [
              "0.9132947976878613"
            ]
          },
          "metadata": {
            "tags": []
          },
          "execution_count": 5
        }
      ]
    },
    {
      "cell_type": "code",
      "metadata": {
        "id": "zujHpHETSp4_",
        "colab_type": "code",
        "outputId": "2afc29bc-3551-4010-987b-7dfdd3ffaf1c",
        "colab": {
          "base_uri": "https://localhost:8080/",
          "height": 34
        }
      },
      "source": [
        "names1 = [\"mpg\", \"cylinders\", \"displacement\", \"horsepower\", \"weight\", \"acceleration\", \"model_year\", \"origin\", \"car_name\"]\n",
        "mpg = pd.read_csv(\"https://archive.ics.uci.edu/ml/machine-learning-databases/auto-mpg/auto-mpg.data\", header=None, names=names1, skipinitialspace=True,\n",
        "                  na_values=[\"?\"], sep=\"\\s+\")\n",
        "\n",
        "\n",
        "#mpg[mpg.isna().any(axis=1)] \n",
        "#mpg.isna().any()\n",
        "#print(mpg.dtypes)\n",
        "#print(mpg.cylinders.value_counts())\n",
        "\n",
        "def label_encode(data):\n",
        "  for i in range(data.columns.size):\n",
        "    if data.dtypes[i] == \"object\":\n",
        "      data[data.columns[i]] = data[data.columns[i]].astype('category')\n",
        "      data[data.columns[i]] = data[data.columns[i]].cat.codes\n",
        "\n",
        "mpg = mpg.dropna()\n",
        "features = mpg.drop(columns=[\"mpg\"])\n",
        "targets = mpg.mpg\n",
        "\n",
        "label_encode(features)\n",
        "\n",
        "train_data, test_data, train_targets, test_targets = train_test_split(features, targets, test_size=.3)\n",
        "\n",
        "regr = KNeighborsRegressor(n_neighbors=3)\n",
        "regr.fit(train_data, train_targets)\n",
        "predictions = regr.predict(test_data)\n",
        "\n",
        "avg_diff = sum(test_targets - predictions)/predictions.size\n",
        "avg_diff\n",
        "\n",
        "\n"
      ],
      "execution_count": 0,
      "outputs": [
        {
          "output_type": "execute_result",
          "data": {
            "text/plain": [
              "-0.1353107344632768"
            ]
          },
          "metadata": {
            "tags": []
          },
          "execution_count": 11
        }
      ]
    },
    {
      "cell_type": "code",
      "metadata": {
        "id": "TWDUeZN3pCWH",
        "colab_type": "code",
        "outputId": "c7967ac3-0bfb-4c6e-d8e0-2213b3544cac",
        "colab": {
          "base_uri": "https://localhost:8080/",
          "height": 34
        }
      },
      "source": [
        "stu = pd.read_csv(\"/student-mat.csv\",  header=0, skipinitialspace=True,\n",
        "                  na_values=[\"?\"], sep=\";\")\n",
        "\n",
        "stu = stu.dropna()\n",
        "#stu.dtypes\n",
        "stu\n",
        "\n",
        "features = stu.drop(columns=[\"G3\"])\n",
        "targets = stu.G3\n",
        "\n",
        "label_encode(features)\n",
        "train_data, test_data, train_targets, test_targets = train_test_split(features, targets, test_size=.3)\n",
        "\n",
        "regr = KNeighborsRegressor(n_neighbors=3)\n",
        "regr.fit(train_data, train_targets)\n",
        "predictions = regr.predict(test_data)\n",
        "\n",
        "avg_diff = sum(test_targets - predictions)/predictions.size\n",
        "avg_diff\n",
        "\n"
      ],
      "execution_count": 0,
      "outputs": [
        {
          "output_type": "execute_result",
          "data": {
            "text/plain": [
              "-0.23809523809523794"
            ]
          },
          "metadata": {
            "tags": []
          },
          "execution_count": 22
        }
      ]
    }
  ]
}