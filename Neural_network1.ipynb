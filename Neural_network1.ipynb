{
  "nbformat": 4,
  "nbformat_minor": 0,
  "metadata": {
    "colab": {
      "name": "Neural network1.ipynb",
      "provenance": [],
      "mount_file_id": "157AnPXjgkNTUK8uTnJMX-smKkWR4sXF_",
      "authorship_tag": "ABX9TyMKOLRrPseWrfY0ctsslQfp",
      "include_colab_link": true
    },
    "kernelspec": {
      "name": "python3",
      "display_name": "Python 3"
    }
  },
  "cells": [
    {
      "cell_type": "markdown",
      "metadata": {
        "id": "view-in-github",
        "colab_type": "text"
      },
      "source": [
        "<a href=\"https://colab.research.google.com/github/IsabelDing00/ML/blob/master/Neural_network1.ipynb\" target=\"_parent\"><img src=\"https://colab.research.google.com/assets/colab-badge.svg\" alt=\"Open In Colab\"/></a>"
      ]
    },
    {
      "cell_type": "code",
      "metadata": {
        "id": "hOWFUubPW5cc",
        "colab_type": "code",
        "colab": {}
      },
      "source": [
        "import numpy as np\n",
        "import tensorflow as tf\n",
        "from tensorflow import keras"
      ],
      "execution_count": 0,
      "outputs": []
    },
    {
      "cell_type": "code",
      "metadata": {
        "id": "mnT80znrddQN",
        "colab_type": "code",
        "colab": {}
      },
      "source": [
        "#tf.keras.datasets.cifar10.load_data()\n",
        "#this is a different way to load the data\n",
        "#I copy this from Keras web\n",
        "#compare to the sklearn's loading data\n",
        "# https://blog.tensorflow.org/2018/04/fashion-mnist-with-tfkeras.html\n",
        "fashion_mnist = tf.keras.datasets.fashion_mnist \n",
        "(train_data, train_targets), (test_data, test_targets) = fashion_mnist.load_data() #load data"
      ],
      "execution_count": 0,
      "outputs": []
    },
    {
      "cell_type": "code",
      "metadata": {
        "id": "KWN9zv6O12b1",
        "colab_type": "code",
        "outputId": "4cc287ad-853a-4b62-c01b-830774234112",
        "colab": {
          "base_uri": "https://localhost:8080/",
          "height": 34
        }
      },
      "source": [
        "train_data.shape\n",
        "# 60000 pictures, 28*28 "
      ],
      "execution_count": 18,
      "outputs": [
        {
          "output_type": "execute_result",
          "data": {
            "text/plain": [
              "(60000, 28, 28)"
            ]
          },
          "metadata": {
            "tags": []
          },
          "execution_count": 18
        }
      ]
    },
    {
      "cell_type": "code",
      "metadata": {
        "id": "SpDW_MR54EOI",
        "colab_type": "code",
        "outputId": "204218d1-1a73-49e5-a36f-0e1dd44b8e51",
        "colab": {
          "base_uri": "https://localhost:8080/",
          "height": 34
        }
      },
      "source": [
        "train_data.dtype"
      ],
      "execution_count": 5,
      "outputs": [
        {
          "output_type": "execute_result",
          "data": {
            "text/plain": [
              "dtype('uint8')"
            ]
          },
          "metadata": {
            "tags": []
          },
          "execution_count": 5
        }
      ]
    },
    {
      "cell_type": "code",
      "metadata": {
        "id": "23-zBVSR4R-n",
        "colab_type": "code",
        "outputId": "cbda63aa-6bfe-422e-c4b1-996ab80d652b",
        "colab": {
          "base_uri": "https://localhost:8080/",
          "height": 282
        }
      },
      "source": [
        "import matplotlib.pyplot as plt\n",
        "# you can use Matplotlib's imshow() function with 'binary'(-> black and white)\n",
        "# color map, without 'binary', it will be a color picture.\n",
        "plt.imshow(train_data[0], cmap='binary')"
      ],
      "execution_count": 19,
      "outputs": [
        {
          "output_type": "execute_result",
          "data": {
            "text/plain": [
              "<matplotlib.image.AxesImage at 0x7f5495c9e198>"
            ]
          },
          "metadata": {
            "tags": []
          },
          "execution_count": 19
        },
        {
          "output_type": "display_data",
          "data": {
            "image/png": "[encoded data removed]",
            "text/plain": [
              "<Figure size 432x288 with 1 Axes>"
            ]
          },
          "metadata": {
            "tags": [],
            "needs_background": "light"
          }
        }
      ]
    },
    {
      "cell_type": "code",
      "metadata": {
        "id": "DFE9Ms7w6hFl",
        "colab_type": "code",
        "colab": {}
      },
      "source": [
        "# ??? why Data normalization, some do, some not.\n",
        "train_data = train_data.astype('float32') / 255\n",
        "test_data = test_data.astype('float32') / 255\n",
        "\n",
        "from sklearn.model_selection import train_test_split\n",
        "train_data, test_data, train_targets, test_targets = train_test_split(train_data, train_targets, test_size = 0.3)\n",
        "#I can change the test_size to 0.01 coz i have a lot of data."
      ],
      "execution_count": 0,
      "outputs": []
    },
    {
      "cell_type": "code",
      "metadata": {
        "id": "uIi6C33--yKT",
        "colab_type": "code",
        "outputId": "5ed2bfd9-e02f-45aa-929f-db8c34fe60e1",
        "colab": {
          "base_uri": "https://localhost:8080/",
          "height": 34
        }
      },
      "source": [
        "train_targets"
      ],
      "execution_count": 21,
      "outputs": [
        {
          "output_type": "execute_result",
          "data": {
            "text/plain": [
              "array([4, 5, 0, ..., 9, 1, 6], dtype=uint8)"
            ]
          },
          "metadata": {
            "tags": []
          },
          "execution_count": 21
        }
      ]
    },
    {
      "cell_type": "code",
      "metadata": {
        "id": "xgTLqIRW_Cyt",
        "colab_type": "code",
        "outputId": "4d5d48b7-ae6f-4755-b31a-601a13acbf92",
        "colab": {
          "base_uri": "https://localhost:8080/",
          "height": 34
        }
      },
      "source": [
        "class_names = [\"T-shirt/top\", \"Trouser\", \"Pullover\", \"Dress\", \"Coat\", \"Sandal\", \"Shirt\", \"Sneaker\", \"Bag\", \"Ankle boot\"]\n",
        "class_names[train_targets[0]]"
      ],
      "execution_count": 22,
      "outputs": [
        {
          "output_type": "execute_result",
          "data": {
            "text/plain": [
              "'Coat'"
            ]
          },
          "metadata": {
            "tags": []
          },
          "execution_count": 22
        }
      ]
    },
    {
      "cell_type": "code",
      "metadata": {
        "id": "0Qb9J0x_AJuc",
        "colab_type": "code",
        "colab": {}
      },
      "source": [
        "from keras.models import Sequential\n",
        "from keras.layers import Dense\n",
        "from keras.layers import Flatten\n",
        "classifier = Sequential()\n",
        "classifier.add(Flatten(input_shape=[28, 28]))\n",
        "classifier.add(Dense(25, activation=\"relu\")) \n",
        "classifier.add(Dense(10, activation=\"relu\"))\n",
        "classifier.add(Dense(10, activation=\"softmax\")) \n",
        "classifier.compile(optimizer=\"sgd\", loss=\"sparse_categorical_crossentropy\", metrics=[\"accuracy\"])\n",
        "#sparse labels[0, 2, 1, 9]:'sparse_categorical_crossentropy'\n",
        "#one hot labels[0,0,1,0][1,0,0,0,]:'categorical_corssentropy'\n",
        "#activation->'sigmoid'; loss'binary_loss'\n",
        "#input_dim -> "
      ],
      "execution_count": 0,
      "outputs": []
    },
    {
      "cell_type": "code",
      "metadata": {
        "id": "DMo-s2w5HLyP",
        "colab_type": "code",
        "outputId": "e7f3b5c2-ef35-484a-b124-064f607d9749",
        "colab": {
          "base_uri": "https://localhost:8080/",
          "height": 289
        }
      },
      "source": [
        "classifier.layers\n",
        "classifier.summary()"
      ],
      "execution_count": 24,
      "outputs": [
        {
          "output_type": "stream",
          "text": [
            "Model: \"sequential_2\"\n",
            "_________________________________________________________________\n",
            "Layer (type)                 Output Shape              Param #   \n",
            "=================================================================\n",
            "flatten_2 (Flatten)          (None, 784)               0         \n",
            "_________________________________________________________________\n",
            "dense_4 (Dense)              (None, 25)                19625     \n",
            "_________________________________________________________________\n",
            "dense_5 (Dense)              (None, 10)                260       \n",
            "_________________________________________________________________\n",
            "dense_6 (Dense)              (None, 10)                110       \n",
            "=================================================================\n",
            "Total params: 19,995\n",
            "Trainable params: 19,995\n",
            "Non-trainable params: 0\n",
            "_________________________________________________________________\n"
          ],
          "name": "stdout"
        }
      ]
    },
    {
      "cell_type": "code",
      "metadata": {
        "id": "LmtDRLALKL8t",
        "colab_type": "code",
        "colab": {}
      },
      "source": [
        "#classifier.fit(train_data, train_targets, epochs=100)\n"
      ],
      "execution_count": 0,
      "outputs": []
    },
    {
      "cell_type": "code",
      "metadata": {
        "id": "ikpytypC5its",
        "colab_type": "code",
        "colab": {
          "base_uri": "https://localhost:8080/",
          "height": 992
        },
        "outputId": "35238aec-75cd-4011-d248-8d2099b9e45f"
      },
      "source": [
        "history = classifier.fit(train_data, train_targets, validation_split = 0.2, epochs = 20)\n",
        "import matplotlib.pyplot as plt\n",
        "plt.plot(history.history['accuracy'])\n",
        "plt.plot(history.history['val_accuracy'])\n",
        "plt.title('model accuracy')\n",
        "plt.ylabel('accuracy')\n",
        "plt.xlabel('epoch')\n",
        "plt.legend(['train', 'validation'], loc='upper left')\n",
        "plt.show()"
      ],
      "execution_count": 26,
      "outputs": [
        {
          "output_type": "stream",
          "text": [
            "Train on 33600 samples, validate on 8400 samples\n",
            "Epoch 1/20\n",
            "33600/33600 [==============================] - 2s 52us/step - loss: 1.1749 - accuracy: 0.5913 - val_loss: 0.7586 - val_accuracy: 0.7248\n",
            "Epoch 2/20\n",
            "33600/33600 [==============================] - 2s 49us/step - loss: 0.6724 - accuracy: 0.7596 - val_loss: 0.6440 - val_accuracy: 0.7570\n",
            "Epoch 3/20\n",
            "33600/33600 [==============================] - 2s 48us/step - loss: 0.5860 - accuracy: 0.7961 - val_loss: 0.5780 - val_accuracy: 0.7861\n",
            "Epoch 4/20\n",
            "33600/33600 [==============================] - 2s 47us/step - loss: 0.5431 - accuracy: 0.8104 - val_loss: 0.5515 - val_accuracy: 0.8020\n",
            "Epoch 5/20\n",
            "33600/33600 [==============================] - 2s 47us/step - loss: 0.5157 - accuracy: 0.8188 - val_loss: 0.5139 - val_accuracy: 0.8115\n",
            "Epoch 6/20\n",
            "33600/33600 [==============================] - 2s 47us/step - loss: 0.4931 - accuracy: 0.8261 - val_loss: 0.5004 - val_accuracy: 0.8188\n",
            "Epoch 7/20\n",
            "33600/33600 [==============================] - 2s 48us/step - loss: 0.4767 - accuracy: 0.8311 - val_loss: 0.4922 - val_accuracy: 0.8206\n",
            "Epoch 8/20\n",
            "33600/33600 [==============================] - 2s 49us/step - loss: 0.4607 - accuracy: 0.8380 - val_loss: 0.4633 - val_accuracy: 0.8333\n",
            "Epoch 9/20\n",
            "33600/33600 [==============================] - 2s 49us/step - loss: 0.4479 - accuracy: 0.8443 - val_loss: 0.4801 - val_accuracy: 0.8249\n",
            "Epoch 10/20\n",
            "33600/33600 [==============================] - 2s 48us/step - loss: 0.4369 - accuracy: 0.8473 - val_loss: 0.4493 - val_accuracy: 0.8385\n",
            "Epoch 11/20\n",
            "33600/33600 [==============================] - 2s 47us/step - loss: 0.4274 - accuracy: 0.8504 - val_loss: 0.4473 - val_accuracy: 0.8405\n",
            "Epoch 12/20\n",
            "33600/33600 [==============================] - 2s 47us/step - loss: 0.4184 - accuracy: 0.8537 - val_loss: 0.4724 - val_accuracy: 0.8212\n",
            "Epoch 13/20\n",
            "33600/33600 [==============================] - 2s 48us/step - loss: 0.4117 - accuracy: 0.8565 - val_loss: 0.4278 - val_accuracy: 0.8473\n",
            "Epoch 14/20\n",
            "33600/33600 [==============================] - 2s 48us/step - loss: 0.4040 - accuracy: 0.8584 - val_loss: 0.4300 - val_accuracy: 0.8481\n",
            "Epoch 15/20\n",
            "33600/33600 [==============================] - 2s 51us/step - loss: 0.3968 - accuracy: 0.8603 - val_loss: 0.4254 - val_accuracy: 0.8446\n",
            "Epoch 16/20\n",
            "33600/33600 [==============================] - 2s 47us/step - loss: 0.3911 - accuracy: 0.8640 - val_loss: 0.4299 - val_accuracy: 0.8470\n",
            "Epoch 17/20\n",
            "33600/33600 [==============================] - 2s 47us/step - loss: 0.3855 - accuracy: 0.8667 - val_loss: 0.4132 - val_accuracy: 0.8538\n",
            "Epoch 18/20\n",
            "33600/33600 [==============================] - 2s 48us/step - loss: 0.3821 - accuracy: 0.8653 - val_loss: 0.4141 - val_accuracy: 0.8512\n",
            "Epoch 19/20\n",
            "33600/33600 [==============================] - 2s 49us/step - loss: 0.3759 - accuracy: 0.8680 - val_loss: 0.4112 - val_accuracy: 0.8536\n",
            "Epoch 20/20\n",
            "33600/33600 [==============================] - 2s 49us/step - loss: 0.3723 - accuracy: 0.8685 - val_loss: 0.4022 - val_accuracy: 0.8546\n"
          ],
          "name": "stdout"
        },
        {
          "output_type": "display_data",
          "data": {
            "image/png": "[encoded data removed]",
            "text/plain": [
              "<Figure size 432x288 with 1 Axes>"
            ]
          },
          "metadata": {
            "tags": [],
            "needs_background": "light"
          }
        }
      ]
    },
    {
      "cell_type": "code",
      "metadata": {
        "id": "PNTX1sc7-_3u",
        "colab_type": "code",
        "colab": {
          "base_uri": "https://localhost:8080/",
          "height": 295
        },
        "outputId": "19a791bd-5b51-4615-f0d6-c002b8f64138"
      },
      "source": [
        "plt.plot(history.history['loss'])\n",
        "plt.plot(history.history['val_loss'])\n",
        "plt.title('model loss')\n",
        "plt.ylabel('loss')\n",
        "plt.xlabel('epoch')\n",
        "plt.legend(['train', 'validation'], loc='upper left')\n",
        "plt.show()"
      ],
      "execution_count": 14,
      "outputs": [
        {
          "output_type": "display_data",
          "data": {
            "image/png": "[encoded data removed]",
            "text/plain": [
              "<Figure size 432x288 with 1 Axes>"
            ]
          },
          "metadata": {
            "tags": [],
            "needs_background": "light"
          }
        }
      ]
    },
    {
      "cell_type": "code",
      "metadata": {
        "id": "GbJFXssk9pcl",
        "colab_type": "code",
        "colab": {
          "base_uri": "https://localhost:8080/",
          "height": 34
        },
        "outputId": "f27cd3f2-e148-4bc6-a253-7a250b5f8567"
      },
      "source": [
        "from sklearn.metrics import accuracy_score\n",
        "predictions = classifier.predict_classes(test_data)\n",
        "accuracy = accuracy_score(test_targets, predictions)\n",
        "accuracy"
      ],
      "execution_count": 15,
      "outputs": [
        {
          "output_type": "execute_result",
          "data": {
            "text/plain": [
              "0.8562777777777778"
            ]
          },
          "metadata": {
            "tags": []
          },
          "execution_count": 15
        }
      ]
    }
  ]
}