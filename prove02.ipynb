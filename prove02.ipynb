{
  "nbformat": 4,
  "nbformat_minor": 0,
  "metadata": {
    "colab": {
      "name": "prove02.ipynb",
      "provenance": [],
      "authorship_tag": "ABX9TyN8qcUWex0Dm8HfB2BqBeFL",
      "include_colab_link": true
    },
    "kernelspec": {
      "name": "python3",
      "display_name": "Python 3"
    }
  },
  "cells": [
    {
      "cell_type": "markdown",
      "metadata": {
        "id": "view-in-github",
        "colab_type": "text"
      },
      "source": [
        "<a href=\"https://colab.research.google.com/github/IsabelDing00/ML/blob/master/prove02.ipynb\" target=\"_parent\"><img src=\"https://colab.research.google.com/assets/colab-badge.svg\" alt=\"Open In Colab\"/></a>"
      ]
    },
    {
      "cell_type": "code",
      "metadata": {
        "id": "r8swTgotumBm",
        "colab_type": "code",
        "outputId": "b3c12bb2-c301-4a27-c150-9806be3c2c19",
        "colab": {
          "base_uri": "https://localhost:8080/",
          "height": 289
        }
      },
      "source": [
        "from sklearn.neighbors import KNeighborsClassifier\n",
        "import pandas as pd\n",
        "import numpy as np\n",
        "from sklearn import datasets\n",
        "from sklearn.model_selection import train_test_split\n",
        "from sklearn.naive_bayes import GaussianNB\n",
        "from statistics import mode\n",
        "\n",
        "url = \"https://byui-cs.github.io/cs450-course/week01/iris.data\"\n",
        "data = pd.read_csv(url)\n",
        "print(data)\n",
        "print(\"finish\\n\")"
      ],
      "execution_count": 0,
      "outputs": [
        {
          "output_type": "stream",
          "text": [
            "     sepal_length  sepal_width  petal_length  petal_width         species\n",
            "0             5.1          3.5           1.4          0.2     Iris-setosa\n",
            "1             4.9          3.0           1.4          0.2     Iris-setosa\n",
            "2             4.7          3.2           1.3          0.2     Iris-setosa\n",
            "3             4.6          3.1           1.5          0.2     Iris-setosa\n",
            "4             5.0          3.6           1.4          0.2     Iris-setosa\n",
            "..            ...          ...           ...          ...             ...\n",
            "145           6.7          3.0           5.2          2.3  Iris-virginica\n",
            "146           6.3          2.5           5.0          1.9  Iris-virginica\n",
            "147           6.5          3.0           5.2          2.0  Iris-virginica\n",
            "148           6.2          3.4           5.4          2.3  Iris-virginica\n",
            "149           5.9          3.0           5.1          1.8  Iris-virginica\n",
            "\n",
            "[150 rows x 5 columns]\n",
            "finish\n",
            "\n"
          ],
          "name": "stdout"
        }
      ]
    },
    {
      "cell_type": "code",
      "metadata": {
        "id": "lQBuu9bG0NIc",
        "colab_type": "code",
        "outputId": "45eac61e-b2b8-42db-e552-11043b905ed9",
        "colab": {
          "base_uri": "https://localhost:8080/",
          "height": 85
        }
      },
      "source": [
        "features = data[[\"sepal_length\", \"sepal_width\", \"petal_length\", \"petal_width\"]].to_numpy()\n",
        "targets = data[\"species\"].to_numpy()\n",
        "# print(\"Features: {}\".format(features))\n",
        "# print(\"\")\n",
        "# print(\"Targets: {}\".format(targets))\n",
        "train_data, test_data, train_targets, test_targets = train_test_split(features, targets, test_size=.3)\n",
        "# print(test_data)\n",
        "# print(\"Train_Data\")\n",
        "# print(train_data)\n",
        "\n",
        "class knn():\n",
        "  def __init__(self, k):\n",
        "    self.k = k\n",
        "\n",
        "  def fit(self, train_data, train_targets):\n",
        "    pass\n",
        "\n",
        "  def predict(self, test_data):\n",
        "\n",
        "    options = []\n",
        "\n",
        "    for i in range(test_data.shape[0]):\n",
        "      dists = []\n",
        "\n",
        "      for j in range(train_data.shape[0]):\n",
        "        dist = np.sqrt(np.sum(test_data[i] - train_data[j]) ** 2)\n",
        "        dists.append(dist)\n",
        "      \n",
        "      short_index = np.argsort(dists)[0:self.k]\n",
        "      options.append(mode(train_targets[short_index]))\n",
        "\n",
        "      return options\n",
        "\n",
        "classify = knn(3)\n",
        "classify.fit(train_data, train_targets)\n",
        "pred = np.array(classify.predict(test_data))\n",
        "print(pred)\n",
        "print(\"finish\\n\")\n",
        "\n",
        "\n",
        "\n",
        "\n",
        "classifier = KNeighborsClassifier(n_neighbors=3)\n",
        "classifier.fit(train_data, train_targets)\n",
        "predictions = classifier.predict(test_data)\n",
        "# predictions\n",
        "\n",
        "correct = 0\n",
        "for i in range(len(predictions)):\n",
        "  if predictions[i] == test_targets[i]:\n",
        "    correct += 1 \n",
        "\n",
        "accuracy = (correct / len(predictions))\n",
        "accuracy"
      ],
      "execution_count": 31,
      "outputs": [
        {
          "output_type": "stream",
          "text": [
            "['Iris-versicolor']\n",
            "finish\n",
            "\n"
          ],
          "name": "stdout"
        },
        {
          "output_type": "execute_result",
          "data": {
            "text/plain": [
              "0.9333333333333333"
            ]
          },
          "metadata": {
            "tags": []
          },
          "execution_count": 31
        }
      ]
    },
    {
      "cell_type": "code",
      "metadata": {
        "id": "h1LSz1nD0ndU",
        "colab_type": "code",
        "colab": {}
      },
      "source": [
        ""
      ],
      "execution_count": 0,
      "outputs": []
    }
  ]
}