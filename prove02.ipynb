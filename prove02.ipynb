{
  "nbformat": 4,
  "nbformat_minor": 0,
  "metadata": {
    "colab": {
      "name": "prove02.ipynb",
      "provenance": [],
      "authorship_tag": "ABX9TyOLXHEVlS8KBSU/n34vxAov",
      "include_colab_link": true
    },
    "kernelspec": {
      "name": "python3",
      "display_name": "Python 3"
    }
  },
  "cells": [
    {
      "cell_type": "markdown",
      "metadata": {
        "id": "view-in-github",
        "colab_type": "text"
      },
      "source": [
        "<a href=\"https://colab.research.google.com/github/IsabelDing00/ML/blob/master/prove02.ipynb\" target=\"_parent\"><img src=\"https://colab.research.google.com/assets/colab-badge.svg\" alt=\"Open In Colab\"/></a>"
      ]
    },
    {
      "cell_type": "code",
      "metadata": {
        "id": "r8swTgotumBm",
        "colab_type": "code",
        "outputId": "b6ec1e0a-fd28-4037-c7be-9cfa80f50dee",
        "colab": {
          "base_uri": "https://localhost:8080/",
          "height": 289
        }
      },
      "source": [
        "from sklearn.neighbors import KNeighborsClassifier\n",
        "import pandas as pd\n",
        "import numpy as np\n",
        "from sklearn import datasets\n",
        "from sklearn.model_selection import train_test_split\n",
        "from sklearn.naive_bayes import GaussianNB\n",
        "from statistics import mode\n",
        "from collections import Counter\n",
        "\n",
        "url = \"https://byui-cs.github.io/cs450-course/week01/iris.data\"\n",
        "data = pd.read_csv(url)\n",
        "print(data)\n",
        "print(\"finish\\n\")"
      ],
      "execution_count": 66,
      "outputs": [
        {
          "output_type": "stream",
          "text": [
            "     sepal_length  sepal_width  petal_length  petal_width         species\n",
            "0             5.1          3.5           1.4          0.2     Iris-setosa\n",
            "1             4.9          3.0           1.4          0.2     Iris-setosa\n",
            "2             4.7          3.2           1.3          0.2     Iris-setosa\n",
            "3             4.6          3.1           1.5          0.2     Iris-setosa\n",
            "4             5.0          3.6           1.4          0.2     Iris-setosa\n",
            "..            ...          ...           ...          ...             ...\n",
            "145           6.7          3.0           5.2          2.3  Iris-virginica\n",
            "146           6.3          2.5           5.0          1.9  Iris-virginica\n",
            "147           6.5          3.0           5.2          2.0  Iris-virginica\n",
            "148           6.2          3.4           5.4          2.3  Iris-virginica\n",
            "149           5.9          3.0           5.1          1.8  Iris-virginica\n",
            "\n",
            "[150 rows x 5 columns]\n",
            "finish\n",
            "\n"
          ],
          "name": "stdout"
        }
      ]
    },
    {
      "cell_type": "code",
      "metadata": {
        "id": "lQBuu9bG0NIc",
        "colab_type": "code",
        "outputId": "2e2f5357-6132-4d77-8606-7fd7a3866f0f",
        "colab": {
          "base_uri": "https://localhost:8080/",
          "height": 870
        }
      },
      "source": [
        "features = data[[\"sepal_length\", \"sepal_width\", \"petal_length\", \"petal_width\"]].to_numpy()\n",
        "targets = data[\"species\"].to_numpy()\n",
        "# print(\"Features: {}\".format(features))\n",
        "# print(\"\")\n",
        "# print(\"Targets: {}\".format(targets))\n",
        "train_data, test_data, train_targets, test_targets = train_test_split(features, targets, test_size=.3)\n",
        "# print(test_data)\n",
        "# print(\"Train_Data\")\n",
        "# print(train_data)\n",
        "\n",
        "class Knn:\n",
        "  def __init__(self, k):\n",
        "    self.k = k\n",
        "    \n",
        "  def fit(self, data, targets):\n",
        "    self.data = data\n",
        "    self.targets = targets\n",
        "  \n",
        "  def calc_distance(self, x, y):\n",
        "    return np.sqrt(np.sum((x - y) ** 2))\n",
        "\n",
        " \n",
        "  def findNeighbor(self, data, k):\n",
        "    \n",
        "    distances = []\n",
        "    for trainData in self.data:\n",
        "      distances.append(self.calc_distance(trainData, data))\n",
        "\n",
        "    sorted_indexes = np.argsort(distances)[:k]\n",
        "\n",
        "    \n",
        "    neighbors = []\n",
        "    for index in sorted_indexes:\n",
        "      neighbors.append(self.targets[index])\n",
        "\n",
        "    counts = Counter(neighbors).most_common()\n",
        "    print(counts, \"!\")\n",
        "  \n",
        "    return counts[0][0]\n",
        "    \n",
        "  def predict(self, data, k):\n",
        "    self.kNearest = k\n",
        "    self.tdata = data\n",
        "    pred = []\n",
        "    \n",
        "    for i in self.tdata:\n",
        "      pred.append(self.findNeighbor(i, k))\n",
        "\n",
        "    return pred\n",
        "\n",
        "classifier = Knn(3)\n",
        "classifier.fit(train_data, train_targets)\n",
        "\n",
        "predictions = classifier.predict(test_data, 3)\n",
        "print(predictions)\n",
        "print('haha')\n",
        "\n",
        "numCorrect = 0\n",
        "\n",
        "for i in range(len(predictions)):\n",
        "  if predictions[i] == test_targets[i]:\n",
        "    numCorrect += 1\n",
        "\n",
        "myaccuracy = (numCorrect / len(predictions)) \n",
        "\n",
        "print(myaccuracy)\n",
        "\n",
        "\n",
        "\n",
        "\n",
        "\n",
        "\n",
        "classifier = KNeighborsClassifier(n_neighbors=3)\n",
        "classifier.fit(train_data, train_targets)\n",
        "predictions = classifier.predict(test_data)\n",
        "# predictions\n",
        "\n",
        "correct = 0\n",
        "for i in range(len(predictions)):\n",
        "  if predictions[i] == test_targets[i]:\n",
        "    correct += 1 \n",
        "\n",
        "accuracy = (correct / len(predictions))\n",
        "accuracy"
      ],
      "execution_count": 112,
      "outputs": [
        {
          "output_type": "stream",
          "text": [
            "[('Iris-setosa', 3)] !\n",
            "[('Iris-virginica', 3)] !\n",
            "[('Iris-virginica', 3)] !\n",
            "[('Iris-virginica', 2), ('Iris-versicolor', 1)] !\n",
            "[('Iris-versicolor', 3)] !\n",
            "[('Iris-versicolor', 3)] !\n",
            "[('Iris-virginica', 2), ('Iris-versicolor', 1)] !\n",
            "[('Iris-setosa', 3)] !\n",
            "[('Iris-versicolor', 3)] !\n",
            "[('Iris-setosa', 3)] !\n",
            "[('Iris-virginica', 2), ('Iris-versicolor', 1)] !\n",
            "[('Iris-virginica', 2), ('Iris-versicolor', 1)] !\n",
            "[('Iris-virginica', 3)] !\n",
            "[('Iris-virginica', 3)] !\n",
            "[('Iris-setosa', 3)] !\n",
            "[('Iris-versicolor', 3)] !\n",
            "[('Iris-setosa', 3)] !\n",
            "[('Iris-virginica', 3)] !\n",
            "[('Iris-virginica', 2), ('Iris-versicolor', 1)] !\n",
            "[('Iris-versicolor', 3)] !\n",
            "[('Iris-versicolor', 3)] !\n",
            "[('Iris-setosa', 3)] !\n",
            "[('Iris-virginica', 2), ('Iris-versicolor', 1)] !\n",
            "[('Iris-setosa', 3)] !\n",
            "[('Iris-setosa', 3)] !\n",
            "[('Iris-versicolor', 3)] !\n",
            "[('Iris-setosa', 3)] !\n",
            "[('Iris-virginica', 3)] !\n",
            "[('Iris-setosa', 3)] !\n",
            "[('Iris-setosa', 3)] !\n",
            "[('Iris-virginica', 3)] !\n",
            "[('Iris-virginica', 3)] !\n",
            "[('Iris-versicolor', 3)] !\n",
            "[('Iris-virginica', 3)] !\n",
            "[('Iris-virginica', 3)] !\n",
            "[('Iris-setosa', 3)] !\n",
            "[('Iris-setosa', 3)] !\n",
            "[('Iris-versicolor', 3)] !\n",
            "[('Iris-setosa', 3)] !\n",
            "[('Iris-virginica', 3)] !\n",
            "[('Iris-versicolor', 3)] !\n",
            "[('Iris-setosa', 3)] !\n",
            "[('Iris-versicolor', 3)] !\n",
            "[('Iris-setosa', 3)] !\n",
            "[('Iris-setosa', 3)] !\n",
            "['Iris-setosa', 'Iris-virginica', 'Iris-virginica', 'Iris-virginica', 'Iris-versicolor', 'Iris-versicolor', 'Iris-virginica', 'Iris-setosa', 'Iris-versicolor', 'Iris-setosa', 'Iris-virginica', 'Iris-virginica', 'Iris-virginica', 'Iris-virginica', 'Iris-setosa', 'Iris-versicolor', 'Iris-setosa', 'Iris-virginica', 'Iris-virginica', 'Iris-versicolor', 'Iris-versicolor', 'Iris-setosa', 'Iris-virginica', 'Iris-setosa', 'Iris-setosa', 'Iris-versicolor', 'Iris-setosa', 'Iris-virginica', 'Iris-setosa', 'Iris-setosa', 'Iris-virginica', 'Iris-virginica', 'Iris-versicolor', 'Iris-virginica', 'Iris-virginica', 'Iris-setosa', 'Iris-setosa', 'Iris-versicolor', 'Iris-setosa', 'Iris-virginica', 'Iris-versicolor', 'Iris-setosa', 'Iris-versicolor', 'Iris-setosa', 'Iris-setosa']\n",
            "haha\n",
            "0.9777777777777777\n"
          ],
          "name": "stdout"
        },
        {
          "output_type": "execute_result",
          "data": {
            "text/plain": [
              "0.9777777777777777"
            ]
          },
          "metadata": {
            "tags": []
          },
          "execution_count": 112
        }
      ]
    },
    {
      "cell_type": "code",
      "metadata": {
        "id": "h1LSz1nD0ndU",
        "colab_type": "code",
        "colab": {}
      },
      "source": [
        ""
      ],
      "execution_count": 0,
      "outputs": []
    }
  ]
}